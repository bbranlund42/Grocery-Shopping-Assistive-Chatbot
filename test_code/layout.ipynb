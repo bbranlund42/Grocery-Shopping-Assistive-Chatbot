{
 "cells": [
  {
   "cell_type": "markdown",
   "metadata": {},
   "source": [
    "# Layout Testing"
   ]
  },
  {
   "cell_type": "code",
   "execution_count": 1,
   "metadata": {},
   "outputs": [],
   "source": [
    "import networkx as nx\n",
    "import matplotlib.pyplot as plt"
   ]
  },
  {
   "cell_type": "markdown",
   "metadata": {},
   "source": [
    "creating graph"
   ]
  },
  {
   "cell_type": "code",
   "execution_count": 16,
   "metadata": {},
   "outputs": [],
   "source": [
    "g = nx.Graph()\n",
    "\n",
    "g.add_nodes_from([\"EX\",\n",
    "                  \"A1\", \"A2\", \"A3\", \"A4\", \"A5\",\n",
    "                  \"B1\", \"B2\", \"B3\", \"B4\", \"B5\",\n",
    "                  \"C1\", \"C2\", \"C3\", \"C4\", \"C5\",\n",
    "                  \"D1\", \"D2\", \"D3\", \"D4\", \"D5\",\n",
    "                  \"E1\", \"E2\", \"E3\", \"E4\", \"E5\",\n",
    "                  \"F1\", \"F2\", \"F3\", \"F4\", \"F5\"])\n",
    "\n",
    "g.add_edges_from([(\"EX\", \"A1\"),\n",
    "                  (\"A1\", \"A2\"), (\"A2\", \"A3\"), (\"A3\", \"A4\"),\n",
    "                  (\"A4\", \"A5\"), (\"A5\", \"B5\"), (\"A1\", \"B1\"),\n",
    "                  (\"B1\", \"B2\"), (\"B2\", \"B3\"), (\"B3\", \"B4\"),\n",
    "                  (\"B4\", \"B5\"), (\"B5\", \"C5\"), (\"B1\", \"C1\"),\n",
    "                  (\"C1\", \"C2\"), (\"C2\", \"C3\"), (\"C3\", \"C4\"),\n",
    "                  (\"C4\", \"C5\"), (\"C5\", \"D5\"), (\"C1\", \"D1\"),\n",
    "                  (\"D1\", \"D2\"), (\"D2\", \"D3\"), (\"D3\", \"D4\"),\n",
    "                  (\"D4\", \"D5\"), (\"D5\", \"E5\"), (\"D1\", \"E1\"),\n",
    "                  (\"E1\", \"E2\"), (\"E2\", \"E3\"), (\"E3\", \"E4\"),\n",
    "                  (\"E4\", \"E5\"), (\"E5\", \"F5\"), (\"E1\", \"F1\"),\n",
    "                  (\"F1\", \"F2\"), (\"F2\", \"F3\"), (\"F3\", \"F4\"),\n",
    "                  (\"F4\", \"F5\")])"
   ]
  },
  {
   "cell_type": "markdown",
   "metadata": {},
   "source": [
    "setting positions of nodes for layout"
   ]
  },
  {
   "cell_type": "code",
   "execution_count": 17,
   "metadata": {},
   "outputs": [],
   "source": [
    "pos = {\n",
    "    \"EX\": (0, -1),\n",
    "\n",
    "    \"A1\": (0, 0),\n",
    "    \"A2\": (1, 0),\n",
    "    \"A3\": (2, 0),\n",
    "    \"A4\": (3, 0),\n",
    "    \"A5\": (4, 0),\n",
    "\n",
    "    \"B1\": (0, 1),\n",
    "    \"B2\": (1, 1),\n",
    "    \"B3\": (2, 1),\n",
    "    \"B4\": (3, 1),\n",
    "    \"B5\": (4, 1),\n",
    "\n",
    "    \"C1\": (0, 2),\n",
    "    \"C2\": (1, 2),\n",
    "    \"C3\": (2, 2),\n",
    "    \"C4\": (3, 2),\n",
    "    \"C5\": (4, 2),\n",
    "\n",
    "    \"D1\": (0, 3),\n",
    "    \"D2\": (1, 3),\n",
    "    \"D3\": (2, 3),\n",
    "    \"D4\": (3, 3),\n",
    "    \"D5\": (4, 3),\n",
    "\n",
    "    \"E1\": (0, 4),\n",
    "    \"E2\": (1, 4),\n",
    "    \"E3\": (2, 4),\n",
    "    \"E4\": (3, 4),\n",
    "    \"E5\": (4, 4),\n",
    "\n",
    "    \"F1\": (0, 5),\n",
    "    \"F2\": (1, 5),\n",
    "    \"F3\": (2, 5),\n",
    "    \"F4\": (3, 5),\n",
    "    \"F5\": (4, 5)\n",
    "}"
   ]
  },
  {
   "cell_type": "markdown",
   "metadata": {},
   "source": [
    "drawing layout"
   ]
  },
  {
   "cell_type": "code",
   "execution_count": 66,
   "metadata": {},
   "outputs": [
    {
     "data": {
      "image/png": "[encoded data removed]",
      "text/plain": [
       "<Figure size 640x480 with 1 Axes>"
      ]
     },
     "metadata": {},
     "output_type": "display_data"
    }
   ],
   "source": [
    "nx.draw_networkx(g, pos, with_labels=True, node_size=350, node_color=(0, 0.4392, 0.6784), \n",
    "                 node_shape='s', linewidths=3, style=':', font_color=\"white\", \n",
    "                 )"
   ]
  },
  {
   "cell_type": "markdown",
   "metadata": {},
   "source": [
    "finding shortest paths between consecutive nodes"
   ]
  },
  {
   "cell_type": "code",
   "execution_count": 45,
   "metadata": {},
   "outputs": [
    {
     "name": "stdout",
     "output_type": "stream",
     "text": [
      "Shortest path between D2 and C2:\n",
      "                  ['D2', 'D1', 'C1', 'C2']\n",
      "Shortest path between C2 and E4:\n",
      "                  ['C2', 'C1', 'D1', 'E1', 'E2', 'E3', 'E4']\n",
      "Shortest path between E4 and B4:\n",
      "                  ['E4', 'E5', 'D5', 'C5', 'B5', 'B4']\n",
      "Shortest path between B4 and B1:\n",
      "                  ['B4', 'B3', 'B2', 'B1']\n",
      "Shortest path between B1 and F1:\n",
      "                  ['B1', 'C1', 'D1', 'E1', 'F1']\n",
      "Shortest path between F1 and A1:\n",
      "                  ['F1', 'E1', 'D1', 'C1', 'B1', 'A1']\n",
      "\n",
      "Complete Path:\n",
      "['D2', 'D1', 'C1', 'C2', 'C1', 'D1', 'E1', 'E2', 'E3', 'E4', 'E5', 'D5', 'C5', 'B5', 'B4', 'B3', 'B2', 'B1', 'C1', 'D1', 'E1', 'F1', 'E1', 'D1', 'C1', 'B1', 'A1']\n"
     ]
    }
   ],
   "source": [
    "items = [\"D2\", \"C2\", \"E4\", \"B4\", \"B1\", \"F1\", \"A1\"]\n",
    "path = []\n",
    "\n",
    "path.append(items[0])\n",
    "for x in range(len(items)):\n",
    "      if x < (len(items) - 1):\n",
    "            shortest = nx.shortest_path(g, source=items[x], target=items[x + 1])\n",
    "\n",
    "            print(f\"\"\"Shortest path between {items[x]} and {items[x + 1]}:\n",
    "                  {shortest}\"\"\")\n",
    "            \n",
    "            for i in range(len(shortest)):\n",
    "                  if i > 0:\n",
    "                        path.append(shortest[i])\n",
    "            \n",
    "print(f\"\\nComplete Path:\\n{path}\")"
   ]
  },
  {
   "cell_type": "markdown",
   "metadata": {},
   "source": [
    "sorting for path efficiency"
   ]
  },
  {
   "cell_type": "code",
   "execution_count": 46,
   "metadata": {},
   "outputs": [
    {
     "name": "stdout",
     "output_type": "stream",
     "text": [
      "Unsorted items: ['D2', 'C2', 'E4', 'B4', 'B1', 'F1', 'A1']\n",
      "Sorted items: ['A1', 'B1', 'B4', 'C2', 'D2', 'E4', 'F1']\n"
     ]
    }
   ],
   "source": [
    "print(f\"Unsorted items: {items}\")\n",
    "\n",
    "aisle_letters = ['A', 'B', 'C', 'D', 'E', 'F']\n",
    "sorted_items = []\n",
    "\n",
    "for aisle_letter in aisle_letters:\n",
    "    for x in range(len(items)):\n",
    "        if aisle_letter in items[x]:\n",
    "            sorted_items.append(items[x])\n",
    "\n",
    "    for x in range(len(sorted_items)):\n",
    "        if x < (len(sorted_items) - 1):\n",
    "            if sorted_items[x] > sorted_items[x + 1]:\n",
    "                temp = sorted_items[x]\n",
    "                sorted_items[x] = sorted_items[x + 1]\n",
    "                sorted_items[x + 1] = temp\n",
    "\n",
    "print(f\"Sorted items: {sorted_items}\")"
   ]
  },
  {
   "cell_type": "code",
   "execution_count": null,
   "metadata": {},
   "outputs": [
    {
     "data": {
      "image/png": "[encoded data removed]",
      "text/plain": [
       "<Figure size 640x480 with 1 Axes>"
      ]
     },
     "metadata": {},
     "output_type": "display_data"
    }
   ],
   "source": [
    "nx.draw(g, pos, with_labels=True)"
   ]
  },
  {
   "cell_type": "markdown",
   "metadata": {},
   "source": [
    "calculating path again with sorted list"
   ]
  },
  {
   "cell_type": "code",
   "execution_count": 47,
   "metadata": {},
   "outputs": [
    {
     "name": "stdout",
     "output_type": "stream",
     "text": [
      "Shortest path between A1 and B1:\n",
      "                  ['A1', 'B1']\n",
      "Shortest path between B1 and B4:\n",
      "                  ['B1', 'B2', 'B3', 'B4']\n",
      "Shortest path between B4 and C2:\n",
      "                  ['B4', 'B3', 'B2', 'B1', 'C1', 'C2']\n",
      "Shortest path between C2 and D2:\n",
      "                  ['C2', 'C1', 'D1', 'D2']\n",
      "Shortest path between D2 and E4:\n",
      "                  ['D2', 'D1', 'E1', 'E2', 'E3', 'E4']\n",
      "Shortest path between E4 and F1:\n",
      "                  ['E4', 'E3', 'E2', 'E1', 'F1']\n",
      "\n",
      "Complete Path:\n",
      "['A1', 'B1', 'B2', 'B3', 'B4', 'B3', 'B2', 'B1', 'C1', 'C2', 'C1', 'D1', 'D2', 'D1', 'E1', 'E2', 'E3', 'E4', 'E3', 'E2', 'E1', 'F1']\n"
     ]
    }
   ],
   "source": [
    "path = []\n",
    "\n",
    "path.append(sorted_items[0])\n",
    "for x in range(len(sorted_items)):\n",
    "      if x < (len(sorted_items) - 1):\n",
    "            shortest = nx.shortest_path(g, source=sorted_items[x], target=sorted_items[x + 1])\n",
    "\n",
    "            print(f\"\"\"Shortest path between {sorted_items[x]} and {sorted_items[x + 1]}:\n",
    "                  {shortest}\"\"\")\n",
    "            \n",
    "            for i in range(len(shortest)):\n",
    "                  if i > 0:\n",
    "                        path.append(shortest[i])\n",
    "            \n",
    "print(f\"\\nComplete Path:\\n{path}\")"
   ]
  }
 ],
 "metadata": {
  "kernelspec": {
   "display_name": "Python 3",
   "language": "python",
   "name": "python3"
  },
  "language_info": {
   "codemirror_mode": {
    "name": "ipython",
    "version": 3
   },
   "file_extension": ".py",
   "mimetype": "text/x-python",
   "name": "python",
   "nbconvert_exporter": "python",
   "pygments_lexer": "ipython3",
   "version": "3.12.9"
  }
 },
 "nbformat": 4,
 "nbformat_minor": 2
}
