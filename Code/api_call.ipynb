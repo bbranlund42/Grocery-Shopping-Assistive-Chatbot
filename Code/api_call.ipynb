{
 "cells": [
  {
   "cell_type": "markdown",
   "metadata": {},
   "source": [
    "API Call"
   ]
  },
  {
   "cell_type": "code",
   "execution_count": 4,
   "metadata": {},
   "outputs": [],
   "source": [
    "#!pip install boto3"
   ]
  },
  {
   "cell_type": "code",
   "execution_count": 8,
   "metadata": {},
   "outputs": [],
   "source": [
    "# Define the prompt for the model.\n",
    "prompt = \"What are some common problems someone may run into when shopping at a grocery store?\""
   ]
  },
  {
   "cell_type": "code",
   "execution_count": 11,
   "metadata": {},
   "outputs": [],
   "source": [
    "# Copyright Amazon.com, Inc. or its affiliates. All Rights Reserved.\n",
    "# SPDX-License-Identifier: Apache-2.0\n",
    "\n",
    "# snippet-start:[python.example_code.bedrock-runtime.InvokeModel_MetaLlama3]\n",
    "# Use the native inference API to send a text message to Meta Llama 3.\n",
    "\n",
    "import boto3\n",
    "import json\n",
    "\n",
    "from botocore.exceptions import ClientError\n",
    "\n",
    "# Create a Bedrock Runtime client in the AWS Region of your choice.\n",
    "client = boto3.client(\"bedrock-runtime\", region_name=\"us-east-2\")\n",
    "\n",
    "# Set the model ID, e.g., Llama 3 70b Instruct.\n",
    "model_id = \"meta.llama3-3-70b-instruct-v1:0\"\n",
    "\n",
    "# Embed the prompt in Llama 3's instruction format.\n",
    "formatted_prompt = f\"\"\"\n",
    "<|begin_of_text|><|start_header_id|>user<|end_header_id|>\n",
    "{prompt}\n",
    "<|eot_id|>\n",
    "<|start_header_id|>assistant<|end_header_id|>\n",
    "\"\"\"\n",
    "\n",
    "# Format the request payload using the model's native structure.\n",
    "native_request = {\n",
    "    \"prompt\": formatted_prompt,\n",
    "    \"max_gen_len\": 1024,\n",
    "    \"temperature\": 0.5,\n",
    "}\n",
    "\n",
    "# Convert the native request to JSON.\n",
    "request = json.dumps(native_request)"
   ]
  },
  {
   "cell_type": "code",
   "execution_count": 12,
   "metadata": {},
   "outputs": [
    {
     "name": "stdout",
     "output_type": "stream",
     "text": [
      "The joys of grocery shopping! While it's a necessary task, it can be frustrating at times. Here are some common problems people may encounter when shopping at a grocery store:\n",
      "\n",
      "1. **Out-of-stock items**: The store may be out of the specific product or brand you're looking for, forcing you to settle for a substitute or visit another store.\n",
      "2. **Long lines and wait times**: Checkout lines can be slow, especially during peak hours or when there are not enough cashiers available.\n",
      "3. **Crowded aisles**: Narrow aisles and crowded stores can make it difficult to navigate and find what you need.\n",
      "4. **Expired or spoiled products**: You may come across expired or spoiled products on the shelves, which can be unappetizing and wasteful.\n",
      "5. **Difficulty finding products**: Stores can be large and overwhelming, making it hard to locate specific items, especially if you're new to the store or the product is not well-stocked.\n",
      "6. **Price discrepancies**: Prices may not match the ones listed on the shelves or in ads, leading to unexpected costs at checkout.\n",
      "7. **Self-checkout issues**: Self-checkout machines can be finicky, and technical issues or incorrect scanning can cause frustration.\n",
      "8. **Lack of sales or promotions**: If you're looking for deals or discounts, you may be disappointed to find that the items you want are not on sale.\n",
      "9. **Parking and accessibility issues**: Parking lots can be crowded, and stores may not have adequate accessibility features, such as ramps or elevators, for people with disabilities.\n",
      "10. **Unfriendly or unhelpful staff**: Some store employees may not be knowledgeable about products or may not provide good customer service, making your shopping experience unpleasant.\n",
      "11. **Checkout errors**: Cashiers may make mistakes when scanning items, leading to incorrect totals or missing items.\n",
      "12. **Limited international or specialty products**: If you're looking for specific international or specialty products, you may not find them at your local grocery store.\n",
      "13. **Food safety concerns**: You may encounter concerns about food safety, such as unrefrigerated perishables or unsanitary conditions in the store.\n",
      "14. **Cart or basket issues**: Carts or baskets may be in short supply, or they may be dirty or damaged, making it difficult to shop comfortably.\n",
      "15. **Store layout changes**: Stores may change their layout, making it hard to find familiar products or navigate the store.\n",
      "\n",
      "These are just a few common problems people may encounter when shopping at a grocery store. However, many stores are working to improve their customer experience and address these issues.\n"
     ]
    }
   ],
   "source": [
    "try:\n",
    "    # Invoke the model with the request.\n",
    "    response = client.invoke_model(modelId=model_id, body=request)\n",
    "\n",
    "except (ClientError, Exception) as e:\n",
    "    print(f\"ERROR: Can't invoke '{model_id}'. Reason: {e}\")\n",
    "    exit(1)\n",
    "\n",
    "# Decode the response body.\n",
    "model_response = json.loads(response[\"body\"].read())\n",
    "\n",
    "# Extract and print the response text.\n",
    "response_text = model_response[\"generation\"]\n",
    "print(response_text)\n",
    "\n",
    "# snippet-end:[python.example_code.bedrock-runtime.InvokeModel_MetaLlama3]"
   ]
  }
 ],
 "metadata": {
  "kernelspec": {
   "display_name": "Python 3",
   "language": "python",
   "name": "python3"
  },
  "language_info": {
   "codemirror_mode": {
    "name": "ipython",
    "version": 3
   },
   "file_extension": ".py",
   "mimetype": "text/x-python",
   "name": "python",
   "nbconvert_exporter": "python",
   "pygments_lexer": "ipython3",
   "version": "3.12.8"
  }
 },
 "nbformat": 4,
 "nbformat_minor": 2
}
